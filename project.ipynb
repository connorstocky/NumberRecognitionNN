{
 "cells": [
  {
   "cell_type": "markdown",
   "metadata": {},
   "source": [
    "# Neural Network to Identify Handwritten Digits\n",
    "## Background information\n",
    "**Project Goal:**<br>\n",
    "The goal of this project was to get some exposure to neural networks by completing a relatively basic function. At the end of this document I will reflect on the learning process. \n",
    "\n",
    "**MNIST Data Set:**<br>\n",
    "For this project I am going to be using the very common MNIST data set. The data comes with 2 seperate csv files, one for training the neural network and then one for testing its accuracy. The data is formatted with one column for the label, representing the correct answer to the digit drawn, followed by 784 rows of pixel data. The pixel data ranges from 0-255 so in the code it had to be normalised from 0-1. An example image of the digits can be seen below:<br>\n",
    "<br><img src = \"images\\MnistExamplesModified.png\">\n",
    "\n",
    "\n",
    "**Neural Networks:**<br>\n",
    "Neural Networks are a learning model inspired by the function of biological processes in the brains of animals. Neural networks operate by having multiple layers of neurons. For each neuron in a layer, there is a specific weighting and bias which it places on the data being input to it. By starting with random weightings and biases, making some guesses, and then comparing the guesses to the correct answers, the network changes itself by altering the weightings and biases of the input data. In addition to this, after processing the data, an activation function can be applied before moving onto the next layer in order to expand the possible outputs to more complex solutions rather than just linear ones. <br>\n",
    "\n",
    "Now for the code:"
   ]
  },
  {
   "cell_type": "markdown",
   "metadata": {},
   "source": [
    "First, import neccessary libraries:"
   ]
  },
  {
   "cell_type": "code",
   "execution_count": 37,
   "metadata": {},
   "outputs": [],
   "source": [
    "'''Import neccessary libraries'''\n",
    "import pandas as pd\n",
    "import numpy as np\n",
    "import matplotlib.pyplot as plt"
   ]
  },
  {
   "cell_type": "markdown",
   "metadata": {},
   "source": [
    "Next, as the csv file type is not the best for mathematical operations, a function to convert the input data into a numpy array must be coded and can be seen below:"
   ]
  },
  {
   "cell_type": "code",
   "execution_count": 38,
   "metadata": {},
   "outputs": [],
   "source": [
    "'''Convert a csv file to an array for analysing'''\n",
    "def convert_csv_to_array(filepath):\n",
    "    df = pd.read_csv(filepath, dtype=int)\n",
    "    data = np.array(df)\n",
    "    x,y = data.shape\n",
    "    data = data.T\n",
    "\n",
    "    answers = data[0]\n",
    "    pixels = data[1:y]/255.0 #Normalise pixel data \n",
    "\n",
    "    return answers, pixels, x, y"
   ]
  },
  {
   "cell_type": "markdown",
   "metadata": {},
   "source": [
    "As explained above, the first set of weightings and biases are randomly assigned within a range of [-0.5,0.5]. A function to initialise said parameters is coded below:"
   ]
  },
  {
   "cell_type": "code",
   "execution_count": 39,
   "metadata": {},
   "outputs": [],
   "source": [
    "'''Initialise starting weights and biases with random values from [-0.5,0.5]'''\n",
    "def init_parameters(nodes):\n",
    "    weights1 = np.random.rand(nodes,784) - 0.5\n",
    "    biases1 = np.random.rand(nodes,1) - 0.5\n",
    "    weights2 = np.random.rand(10,nodes) - 0.5\n",
    "    biases2 = np.random.rand(10,1) - 0.5\n",
    "\n",
    "    return weights1, biases1, weights2, biases2"
   ]
  },
  {
   "cell_type": "markdown",
   "metadata": {},
   "source": [
    "Next are the activation functions required in order to be applied to the output of a layer in the network. Also included is a softmax function for converting the output into an array of probabilities in order to compare to the actual answers. Also included is a one hot encoding function to convert the answer of any given example in the same format as the softmax function output which will have probability 1 of the digit to which the drawn number is."
   ]
  },
  {
   "cell_type": "code",
   "execution_count": 40,
   "metadata": {},
   "outputs": [],
   "source": [
    "'''Below are all the activation functions required for the training'''\n",
    "def activation(value):\n",
    "    return np.maximum(0, value) #Relu\n",
    "    # return np.where(value >= 0, value, 0.1*value) # Leaky ReLU\n",
    "    # return (np.exp(value) - np.exp(-value)) / (np.exp(value) + np.exp(-value)) # Tanh\n",
    "    # return 1.0 / (1.0 + np.exp(-value)) # Sigmoid\n",
    "\n",
    "def delta_activation(value):\n",
    "    return value > 0\n",
    "    # return np.where(value >= 0, 1, 0.1) # Leaky ReLU\n",
    "    # return 1.0 - np.power(activation(value),2) # Tanh\n",
    "    # return activation(value)*(1.0 - activation(value)) # Sigmoid\n",
    "\n",
    "def softmax(value):\n",
    "    return np.exp(value)/sum(np.exp(value))\n",
    "\n",
    "def one_hot(answers):\n",
    "    one_hot = np.zeros((answers.size, answers.max()+1))\n",
    "    one_hot[np.arange(answers.size), answers] = 1\n",
    "    #Transpose so each column is an example\n",
    "    one_hot = one_hot.T\n",
    "    return one_hot"
   ]
  },
  {
   "cell_type": "markdown",
   "metadata": {},
   "source": [
    "Next, it's time for forward propogation. Forward propogation is the function which takes some values for weightings and biases of each layer in the neural network, and works forwards. At each layer of neurons, the forward propogation function multiplies the weightings of each neuron with their input, then adds the bias for said neuron. After this, it applies the activation function shown above and feeds this as an input into the next layer of the network."
   ]
  },
  {
   "cell_type": "code",
   "execution_count": 41,
   "metadata": {},
   "outputs": [],
   "source": [
    "'''Run forward through the network once, based on input weights and biases for each layer'''\n",
    "def forward_propogation(weights1, biases1, weights2, biases2, input):\n",
    "    layer1 = weights1.dot(input) + biases1 \n",
    "    activated_layer1 = activation(layer1)\n",
    "    layer2 = weights2.dot(activated_layer1) + biases2\n",
    "    activated_layer2 = softmax(layer2)\n",
    "\n",
    "    return layer1, activated_layer1, layer2, activated_layer2"
   ]
  },
  {
   "cell_type": "markdown",
   "metadata": {},
   "source": [
    "With forward propgation coded, now it's time for backwards propogation. As briefly touched on above, backwards propogation involves comparing the output of the forward propogation with the actual answers. By comparing them, and figuring out exactly how wrong the network was, backwards prop works backwards through the layers, adjusting the weights and biases based on how wrong it was, and multiplying this error by some learning rate. The learning rate is the extent to which backwards prop will shift the weights and biases based on how wrong they were."
   ]
  },
  {
   "cell_type": "code",
   "execution_count": 42,
   "metadata": {},
   "outputs": [],
   "source": [
    "'''Run backwards through the network once, calculating the error at each stage and the altering the weights and biases based on how wrong each step was'''\n",
    "def backwards_propogation(data, layer1, layer2, activated_layer1, activated_layer2, weights1, weights2, biases1, biases2, answers, learning_rate, a):\n",
    "    one_hot_answers = one_hot(answers) \n",
    "\n",
    "    error_layer2 = activated_layer2 - one_hot_answers\n",
    "    error_weightings2 = 1/a*error_layer2.dot(activated_layer1.T)\n",
    "    error_biases2 = 1/a*np.sum(error_layer2)\n",
    "\n",
    "    error_layer1 = weights2.T.dot(error_layer2)*delta_activation(layer1)\n",
    "    error_weightings1 = 1/a*error_layer1.dot(data.T)\n",
    "    error_biases1 = 1/a*np.sum(error_layer1)\n",
    "\n",
    "    weights1 -= learning_rate*error_weightings1\n",
    "    biases1 -= learning_rate*error_biases1\n",
    "    weights2 -= learning_rate*error_weightings2\n",
    "    biases2 -= learning_rate*error_biases2\n",
    "\n",
    "    return weights1, biases1, weights2, biases2"
   ]
  },
  {
   "cell_type": "markdown",
   "metadata": {},
   "source": [
    "With these functions now coded, the focus can shift towards actually generating and training the network. This function is relatively simple, running through forward and then back prop for a certain number of iterations and returning the final values for all the weighs and biases for the nodes in the neuron layers. "
   ]
  },
  {
   "cell_type": "code",
   "execution_count": 43,
   "metadata": {},
   "outputs": [],
   "source": [
    "def train_network(data, answers, iterations, learning_rate, nodes, a):\n",
    "    #Initialise random weights and biases to begin\n",
    "    weights1, biases1, weights2, biases2 = init_parameters(nodes)\n",
    "\n",
    "    #Iterate through forward prop and back prop changing the weights and biases each time\n",
    "    for x in range(iterations):\n",
    "        layer1, activated_layer1, layer2, activated_layer2 = forward_propogation(weights1, biases1, weights2, biases2, data)\n",
    "        weights1, biases1, weights2, biases2 = backwards_propogation(data, layer1, layer2, activated_layer1, activated_layer2, weights1, weights2, biases1, biases2, answers, learning_rate, a)\n",
    "\n",
    "    return weights1, biases1, weights2, biases2\n"
   ]
  },
  {
   "cell_type": "markdown",
   "metadata": {},
   "source": [
    "Before we can test the results of the neural network, a couple functions for assessing the accuracy of the predictions must be coded."
   ]
  },
  {
   "cell_type": "code",
   "execution_count": 44,
   "metadata": {},
   "outputs": [],
   "source": [
    "'''Return the integer predicted by the network. The prediction is the value with the highest probability'''\n",
    "def prediction(activated_layer2):\n",
    "    return np.argmax(activated_layer2, 0)\n",
    "\n",
    "'''Calculate the accuracy of the network with the current set of predictions'''\n",
    "def accuracy(prediction, answer):\n",
    "    return np.sum(prediction == answer)/answer.size"
   ]
  },
  {
   "cell_type": "markdown",
   "metadata": {},
   "source": [
    "Next, a function which tests any set of weights and biases against the testing data from the MNIST set."
   ]
  },
  {
   "cell_type": "code",
   "execution_count": 45,
   "metadata": {},
   "outputs": [],
   "source": [
    "def test_network(data, answers, weights1, weights2, biases1, biases2):\n",
    "    layer1, activated_layer1, layer2, activated_layer2 = forward_propogation(weights1, biases1, weights2, biases2, data)\n",
    "    return accuracy(prediction(activated_layer2), answers)"
   ]
  },
  {
   "cell_type": "markdown",
   "metadata": {},
   "source": [
    "With all of that coded in, an initial test of the network can be done. First, let's import the data with the function coded at the start and initialise some key variables."
   ]
  },
  {
   "cell_type": "code",
   "execution_count": 46,
   "metadata": {},
   "outputs": [],
   "source": [
    "#Import data for training and testing\n",
    "train_sol, train_data, a, b = convert_csv_to_array(\"MNIST_DATA/mnist_train.csv\")\n",
    "test_sol, test_data, c, d = convert_csv_to_array(\"MNIST_DATA/mnist_test.csv\")\n",
    "\n",
    "#BELOW VALUES CAN BE CHANGED\n",
    "learning_rate = 0.1 #Rate at which the errors are factored into weights and biases\n",
    "iterations = 500 #Times the nerual network will iterate and change weights + biases\n",
    "nodes = 15 #Number of nodes in the first layer"
   ]
  },
  {
   "cell_type": "markdown",
   "metadata": {},
   "source": [
    "Now lets train the network! (This wil take some time depending on the variables assigned above)"
   ]
  },
  {
   "cell_type": "code",
   "execution_count": 47,
   "metadata": {},
   "outputs": [],
   "source": [
    "#Train Network\n",
    "weights1, biases1, weights2, biases2 = train_network(train_data, train_sol, iterations, learning_rate, nodes, a)"
   ]
  },
  {
   "cell_type": "markdown",
   "metadata": {},
   "source": [
    "With the resulting weights and biases, now we can test it against the data set put aside at the beginning."
   ]
  },
  {
   "cell_type": "code",
   "execution_count": 48,
   "metadata": {},
   "outputs": [
    {
     "name": "stdout",
     "output_type": "stream",
     "text": [
      "Accuracy: 85.79%\n"
     ]
    }
   ],
   "source": [
    "trained_accuracy = test_network(test_data, test_sol, weights1, weights2, biases1, biases2)\n",
    "print(f\"Accuracy: {round(100*trained_accuracy,2)}%\")"
   ]
  },
  {
   "cell_type": "markdown",
   "metadata": {},
   "source": [
    "Perfect! When I ran this myself with more iterations the accuracy asymptoted at around 91%. Finding the total accuracy at the end of the simulation is good, but what about assessing the running accuracy over time? To do this lets alter some of the above functions."
   ]
  },
  {
   "cell_type": "code",
   "execution_count": 52,
   "metadata": {},
   "outputs": [],
   "source": [
    "def train_network2(data, answers, iterations, learning_rate, nodes, a):\n",
    "    #Initialise random weights and biases to begin\n",
    "    weights1, biases1, weights2, biases2 = init_parameters(nodes)\n",
    "    accuracies = []\n",
    "    itt = []\n",
    "\n",
    "    #Iterate through forward prop and back prop changing the weights and biases each time\n",
    "    for x in range(iterations):\n",
    "        layer1, activated_layer1, layer2, activated_layer2 = forward_propogation(weights1, biases1, weights2, biases2, data)\n",
    "        accuracies.append(test_network(data, answers, weights1, weights2, biases1, biases2))\n",
    "        itt.append(x)\n",
    "        weights1, biases1, weights2, biases2 = backwards_propogation(data, layer1, layer2, activated_layer1, activated_layer2, weights1, weights2, biases1, biases2, answers, learning_rate, a)\n",
    "\n",
    "    return weights1, biases1, weights2, biases2, accuracies, itt"
   ]
  },
  {
   "cell_type": "code",
   "execution_count": 53,
   "metadata": {},
   "outputs": [],
   "source": [
    "#Train Network\n",
    "weights1, biases1, weights2, biases2, acc, itt = train_network2(train_data, train_sol, iterations, learning_rate, nodes, a)"
   ]
  },
  {
   "cell_type": "code",
   "execution_count": 57,
   "metadata": {},
   "outputs": [
    {
     "data": {
      "image/png": "[encoded data removed]",
      "text/plain": [
       "<Figure size 640x480 with 1 Axes>"
      ]
     },
     "metadata": {},
     "output_type": "display_data"
    }
   ],
   "source": [
    "def plot_training_progress(itt, acc):\n",
    "    \n",
    "    plt.plot(itt, acc, label='Accuracy', color='b', marker='o', linestyle='-')\n",
    "    plt.title('Training Progress')\n",
    "    plt.xlabel('Iterations')\n",
    "    plt.ylabel('Accuracy')\n",
    "    plt.grid(True)\n",
    "    plt.legend()\n",
    "    plt.show()\n",
    "\n",
    "# Example call to plot_training_progress function\n",
    "plot_training_progress(itt, acc)"
   ]
  },
  {
   "cell_type": "markdown",
   "metadata": {},
   "source": [
    "As an additional research idea, I will test different actication functions and compare their accuracies. First Tanh."
   ]
  },
  {
   "cell_type": "code",
   "execution_count": 59,
   "metadata": {},
   "outputs": [
    {
     "name": "stdout",
     "output_type": "stream",
     "text": [
      "Accuracy: 84.41%\n"
     ]
    }
   ],
   "source": [
    "def activation(value):\n",
    "    # return np.maximum(0, value) #Relu\n",
    "    # return np.where(value >= 0, value, 0.1*value) # Leaky ReLU\n",
    "    return (np.exp(value) - np.exp(-value)) / (np.exp(value) + np.exp(-value)) # Tanh\n",
    "    # return 1.0 / (1.0 + np.exp(-value)) # Sigmoid\n",
    "\n",
    "def delta_activation(value):\n",
    "    # return value > 0\n",
    "    # return np.where(value >= 0, 1, 0.1) # Leaky ReLU\n",
    "    return 1.0 - np.power(activation(value),2) # Tanh\n",
    "    # return activation(value)*(1.0 - activation(value)) # Sigmoid\n",
    "\n",
    "weights1, biases1, weights2, biases2 = train_network(train_data, train_sol, iterations, learning_rate, nodes, a)\n",
    "trained_accuracy = test_network(test_data, test_sol, weights1, weights2, biases1, biases2)\n",
    "print(f\"Accuracy: {round(100*trained_accuracy,2)}%\")"
   ]
  },
  {
   "cell_type": "markdown",
   "metadata": {},
   "source": [
    "Next, Sigmoid."
   ]
  },
  {
   "cell_type": "code",
   "execution_count": 60,
   "metadata": {},
   "outputs": [
    {
     "name": "stdout",
     "output_type": "stream",
     "text": [
      "Accuracy: 75.08%\n"
     ]
    }
   ],
   "source": [
    "def activation(value):\n",
    "    # return np.maximum(0, value) #Relu\n",
    "    # return np.where(value >= 0, value, 0.1*value) # Leaky ReLU\n",
    "    # return (np.exp(value) - np.exp(-value)) / (np.exp(value) + np.exp(-value)) # Tanh\n",
    "    return 1.0 / (1.0 + np.exp(-value)) # Sigmoid\n",
    "\n",
    "def delta_activation(value):\n",
    "    # return value > 0\n",
    "    # return np.where(value >= 0, 1, 0.1) # Leaky ReLU\n",
    "    # return 1.0 - np.power(activation(value),2) # Tanh\n",
    "    return activation(value)*(1.0 - activation(value)) # Sigmoid\n",
    "\n",
    "weights1, biases1, weights2, biases2 = train_network(train_data, train_sol, iterations, learning_rate, nodes, a)\n",
    "trained_accuracy = test_network(test_data, test_sol, weights1, weights2, biases1, biases2)\n",
    "print(f\"Accuracy: {round(100*trained_accuracy,2)}%\")"
   ]
  },
  {
   "cell_type": "markdown",
   "metadata": {},
   "source": [
    "And Leaky Relu."
   ]
  },
  {
   "cell_type": "code",
   "execution_count": 61,
   "metadata": {},
   "outputs": [
    {
     "name": "stdout",
     "output_type": "stream",
     "text": [
      "Accuracy: 86.99%\n"
     ]
    }
   ],
   "source": [
    "def activation(value):\n",
    "    # return np.maximum(0, value) #Relu\n",
    "    return np.where(value >= 0, value, 0.1*value) # Leaky ReLU\n",
    "    # return (np.exp(value) - np.exp(-value)) / (np.exp(value) + np.exp(-value)) # Tanh\n",
    "    # return 1.0 / (1.0 + np.exp(-value)) # Sigmoid\n",
    "\n",
    "def delta_activation(value):\n",
    "    # return value > 0\n",
    "    return np.where(value >= 0, 1, 0.1) # Leaky ReLU\n",
    "    # return 1.0 - np.power(activation(value),2) # Tanh\n",
    "    # return activation(value)*(1.0 - activation(value)) # Sigmoid\n",
    "\n",
    "weights1, biases1, weights2, biases2 = train_network(train_data, train_sol, iterations, learning_rate, nodes, a)\n",
    "trained_accuracy = test_network(test_data, test_sol, weights1, weights2, biases1, biases2)\n",
    "print(f\"Accuracy: {round(100*trained_accuracy,2)}%\")"
   ]
  },
  {
   "cell_type": "markdown",
   "metadata": {},
   "source": [
    "After testing all, the Leaky Rectified linear function yielded the highest accuracy. This was all done with 500 iterations for times sake but i think the results would replicate with all increasing their accuracy for more iterations but still having the leaky relu on top."
   ]
  },
  {
   "cell_type": "markdown",
   "metadata": {},
   "source": [
    "**Reflection on the Project**\n",
    "Throughout the project, I think i definitely achieved my goal of exploring and learning about the basics of Neural Networks. Through a lot of video watching and research, I feel my understanding of all the functions above has increased dramatically and I would be equipped to take on an even harder project."
   ]
  }
 ],
 "metadata": {
  "kernelspec": {
   "display_name": "Python 3",
   "language": "python",
   "name": "python3"
  },
  "language_info": {
   "codemirror_mode": {
    "name": "ipython",
    "version": 3
   },
   "file_extension": ".py",
   "mimetype": "text/x-python",
   "name": "python",
   "nbconvert_exporter": "python",
   "pygments_lexer": "ipython3",
   "version": "3.11.8"
  }
 },
 "nbformat": 4,
 "nbformat_minor": 2
}
